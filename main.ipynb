{
 "cells": [
  {
   "cell_type": "code",
   "execution_count": 4,
   "id": "46e8cb71",
   "metadata": {},
   "outputs": [],
   "source": [
    "import pandas as pd\n",
    "from sklearn.model_selection import train_test_split\n",
    "from sklearn.metrics import accuracy_score\n",
    "from sklearn.neighbors import KNeighborsClassifier\n",
    "from sklearn.preprocessing import StandardScaler"
   ]
  },
  {
   "cell_type": "code",
   "execution_count": 45,
   "id": "d47e16f9",
   "metadata": {},
   "outputs": [
    {
     "name": "stdout",
     "output_type": "stream",
     "text": [
      "0.75\n"
     ]
    }
   ],
   "source": [
    "def preprocessing():\n",
    "    columns_needed = [\"fruit_label\", \"mass\", \"width\", \"height\", \"color_score\"]\n",
    "    dataset = pd.read_csv(\"fruit_data_with_colors.txt\", sep=\"\\t\", usecols=columns_needed)\n",
    "    data = dataset.iloc[:, 1:]\n",
    "    label = dataset.iloc[:, 0]\n",
    "    train_features, test_features, train_labels, test_labels = train_test_split(data, label, test_size=0.2, random_state=10)\n",
    "    return train_features, test_features, train_labels, test_labels\n",
    "\n",
    "\n",
    "def train():\n",
    "    train_features, test_features, train_labels, test_labels = preprocessing()\n",
    "    classifier = KNeighborsClassifier(n_neighbors=3, metric=\"euclidean\")\n",
    "    classifier.fit(train_features, train_labels)\n",
    "    predicted_label = classifier.predict(test_features)\n",
    "    accuracy = accuracy_score(test_labels, predicted_label)\n",
    "    return accuracy\n",
    "\n",
    "\n",
    "def show_result():\n",
    "    accuracy\n",
    "    print(f\"model accuracy is: {accuracy}\")\n",
    "    \n",
    "    \n",
    "train()"
   ]
  },
  {
   "cell_type": "code",
   "execution_count": null,
   "id": "4e3f1a9c",
   "metadata": {},
   "outputs": [],
   "source": []
  }
 ],
 "metadata": {
  "kernelspec": {
   "display_name": "Python 3 (ipykernel)",
   "language": "python",
   "name": "python3"
  },
  "language_info": {
   "codemirror_mode": {
    "name": "ipython",
    "version": 3
   },
   "file_extension": ".py",
   "mimetype": "text/x-python",
   "name": "python",
   "nbconvert_exporter": "python",
   "pygments_lexer": "ipython3",
   "version": "3.10.9"
  }
 },
 "nbformat": 4,
 "nbformat_minor": 5
}
