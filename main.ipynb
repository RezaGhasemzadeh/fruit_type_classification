{
 "cells": [
  {
   "cell_type": "code",
   "execution_count": 4,
   "id": "dbf7014b",
   "metadata": {},
   "outputs": [],
   "source": [
    "import pandas as pd\n",
    "from sklearn.model_selection import train_test_split\n",
    "from sklearn.metrics import accuracy_score\n",
    "from sklearn.neighbors import KNeighborsClassifier\n",
    "from sklearn.preprocessing import StandardScaler"
   ]
  },
  {
   "cell_type": "code",
   "execution_count": 52,
   "id": "50ab10ce",
   "metadata": {},
   "outputs": [
    {
     "name": "stdout",
     "output_type": "stream",
     "text": [
      "model accuracy is: 83.33333333333334%\n"
     ]
    }
   ],
   "source": [
    "def preprocessing():\n",
    "    columns_needed = [\"fruit_label\", \"mass\", \"width\", \"height\", \"color_score\"]\n",
    "    dataset = pd.read_csv(\"fruit_data_with_colors.txt\", sep=\"\\t\", usecols=columns_needed)\n",
    "    data = dataset.iloc[:, 1:]\n",
    "    label = dataset.iloc[:, 0]\n",
    "    train_features, test_features, train_labels, test_labels = train_test_split(data, label, test_size=0.2, random_state=10)\n",
    "    sc = StandardScaler()\n",
    "    # before normalizing the data, accuracy was 75% but after normalizing, it improved to 83%\n",
    "    train_features = sc.fit_transform(train_features)\n",
    "    test_features = sc.transform(test_features)\n",
    "    return train_features, test_features, train_labels, test_labels\n",
    "\n",
    "\n",
    "def train():\n",
    "    train_features, test_features, train_labels, test_labels = preprocessing()\n",
    "    classifier = KNeighborsClassifier(n_neighbors=3, metric=\"euclidean\")\n",
    "    classifier.fit(train_features, train_labels)\n",
    "    predicted_label = classifier.predict(test_features)\n",
    "    accuracy = accuracy_score(test_labels, predicted_label)\n",
    "    return accuracy\n",
    "\n",
    "\n",
    "def show_result():\n",
    "    accuracy = train()\n",
    "    print(f\"model accuracy is: {accuracy*100}%\")\n",
    "    \n",
    "    \n",
    "show_result()"
   ]
  },
  {
   "cell_type": "code",
   "execution_count": null,
   "id": "b29bcced",
   "metadata": {},
   "outputs": [],
   "source": []
  }
 ],
 "metadata": {
  "kernelspec": {
   "display_name": "Python 3 (ipykernel)",
   "language": "python",
   "name": "python3"
  },
  "language_info": {
   "codemirror_mode": {
    "name": "ipython",
    "version": 3
   },
   "file_extension": ".py",
   "mimetype": "text/x-python",
   "name": "python",
   "nbconvert_exporter": "python",
   "pygments_lexer": "ipython3",
   "version": "3.10.9"
  }
 },
 "nbformat": 4,
 "nbformat_minor": 5
}
